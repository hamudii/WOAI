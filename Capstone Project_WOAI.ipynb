{
 "cells": [
  {
   "cell_type": "code",
   "execution_count": 1,
   "id": "cfb83135",
   "metadata": {},
   "outputs": [],
   "source": [
    "# grader-required-cell\n",
    "\n",
    "import os\n",
    "import zipfile\n",
    "import matplotlib.pyplot as plt\n",
    "import tensorflow as tf\n",
    "from tensorflow.keras import layers\n",
    "from tensorflow.keras import Model\n",
    "from tensorflow.keras.optimizers import RMSprop\n",
    "from tensorflow.keras.preprocessing.image import ImageDataGenerator\n",
    "from tensorflow.keras.utils import img_to_array, load_img"
   ]
  },
  {
   "cell_type": "code",
   "execution_count": 74,
   "id": "0e982c17",
   "metadata": {},
   "outputs": [],
   "source": [
    "import os\n",
    "import cv2\n",
    "import numpy as np\n",
    "\n",
    "def parse_data_from_input(dataset_dir):\n",
    "    # Define the path to your dataset directory containing subdirectories for each class\n",
    "\n",
    "    # Initialize empty lists to store images and labels\n",
    "    images = []\n",
    "    labels = []\n",
    "\n",
    "    # Create a list of class labels based on subdirectory names\n",
    "    class_labels = os.listdir(dataset_dir)\n",
    "\n",
    "    # Loop through each subdirectory (class)\n",
    "    for label, class_name in enumerate(class_labels):\n",
    "        class_dir = os.path.join(dataset_dir, class_name)\n",
    "        count = 1 \n",
    "        # Loop through all files in the class directory\n",
    "        for filename in os.listdir(class_dir):\n",
    "            if filename.endswith((\".jpg\", \".png\")):  # Adjust file extensions as needed\n",
    "                new_path = os.path.join(class_dir, filename)\n",
    "                 # Specify the old and new file names\n",
    "                # Generate a unique filename by adding a count to the original filename\n",
    "#                 base_filename, file_extension = os.path.splitext(filename)\n",
    "#                 new_filename = f\"{class_name}_{count}{file_extension}\"\n",
    "#                 new_path = os.path.join(class_dir, new_filename)\n",
    "                \n",
    "                # Increment the count to ensure the next file has a unique name\n",
    "                count += 1\n",
    "\n",
    "                # Rename the file\n",
    "#                 os.rename(file_path, new_path)\n",
    "                # Load the image using OpenCV\n",
    "                image = cv2.imread(new_path)\n",
    "                # If you want to save the grayscale image to a file\n",
    "                cv2.imwrite(new_path, image)\n",
    "\n",
    "                # Resize the image to a consistent size if needed\n",
    "                image = cv2.resize(image, (224, 224))\n",
    "\n",
    "                # Append the image and its corresponding label to the lists\n",
    "                images.append(image)\n",
    "                labels.append(label)\n",
    "\n",
    "    # Convert the lists to NumPy arrays\n",
    "    images = np.array(images)\n",
    "    labels = np.array(labels)\n",
    "    return images, labels\n",
    "\n",
    "    # You can then use 'images' and 'labels' in your machine learning model"
   ]
  },
  {
   "cell_type": "code",
   "execution_count": 75,
   "id": "a617bf51",
   "metadata": {},
   "outputs": [],
   "source": [
    "TRAINING_FILE = r'train'\n",
    "VALIDATION_FILE = r'test'"
   ]
  },
  {
   "cell_type": "code",
   "execution_count": 76,
   "id": "a9e96e38",
   "metadata": {},
   "outputs": [
    {
     "name": "stdout",
     "output_type": "stream",
     "text": [
      "Training images has shape: (4682, 224, 224, 3) and dtype: uint8\n",
      "Training labels has shape: (4682,) and dtype: int32\n",
      "Validation images has shape: (355, 224, 224, 3) and dtype: uint8\n",
      "Validation labels has shape: (355,) and dtype: int32\n"
     ]
    }
   ],
   "source": [
    "# grader-required-cell\n",
    "\n",
    "# Test your function\n",
    "training_images, training_labels = parse_data_from_input(TRAINING_FILE)\n",
    "validation_images, validation_labels = parse_data_from_input(VALIDATION_FILE)\n",
    "\n",
    "print(f\"Training images has shape: {training_images.shape} and dtype: {training_images.dtype}\")\n",
    "print(f\"Training labels has shape: {training_labels.shape} and dtype: {training_labels.dtype}\")\n",
    "print(f\"Validation images has shape: {validation_images.shape} and dtype: {validation_images.dtype}\")\n",
    "print(f\"Validation labels has shape: {validation_labels.shape} and dtype: {validation_labels.dtype}\")"
   ]
  },
  {
   "cell_type": "code",
   "execution_count": 77,
   "id": "379d01ef",
   "metadata": {},
   "outputs": [
    {
     "name": "stdout",
     "output_type": "stream",
     "text": [
      "1\n"
     ]
    }
   ],
   "source": [
    "print(training_labels[1500])"
   ]
  },
  {
   "cell_type": "code",
   "execution_count": 78,
   "id": "98c3c453",
   "metadata": {},
   "outputs": [],
   "source": [
    "# grader-required-cell\n",
    "\n",
    "# GRADED FUNCTION: train_val_generators\n",
    "def train_val_generators(training_images, training_labels, validation_images, validation_labels):\n",
    "  \"\"\"\n",
    "  Creates the training and validation data generators\n",
    "\n",
    "  Args:\n",
    "    training_images (array): parsed images from the train CSV file\n",
    "    training_labels (array): parsed labels from the train CSV file\n",
    "    validation_images (array): parsed images from the test CSV file\n",
    "    validation_labels (array): parsed labels from the test CSV file\n",
    "\n",
    "  Returns:\n",
    "    train_generator, validation_generator - tuple containing the generators\n",
    "  \"\"\"\n",
    "  ### START CODE HERE\n",
    "\n",
    "  # In this section you will have to add another dimension to the data\n",
    "  # So, for example, if your array is (10000, 28, 28)\n",
    "  # You will need to make it (10000, 28, 28, 1)\n",
    "  # Hint: np.expand_dims\n",
    "#   training_images = np.expand_dims(training_images, axis = -2)\n",
    "#   validation_images = np.expand_dims(validation_images, axis = -2)\n",
    "\n",
    "  # Instantiate the ImageDataGenerator class\n",
    "  # Don't forget to normalize pixel values\n",
    "  # and set arguments to augment the images (if desired)\n",
    "  train_datagen = ImageDataGenerator(\n",
    "      rescale = 1./255.,\n",
    "#       rotation_range=40,\n",
    "#       width_shift_range=0.2,\n",
    "#       height_shift_range=0.2,\n",
    "#       shear_range=0.2,\n",
    "#       zoom_range=0.2,\n",
    "      horizontal_flip=True\n",
    "#       fill_mode='nearest'\n",
    "      )\n",
    "\n",
    "\n",
    "  # Pass in the appropriate arguments to the flow method\n",
    "  train_generator = train_datagen.flow(x=training_images,\n",
    "                                       y=training_labels,\n",
    "                                       batch_size=16,\n",
    ")\n",
    "\n",
    "\n",
    "  # Instantiate the ImageDataGenerator class (don't forget to set the rescale argument)\n",
    "  # Remember that validation data should not be augmented\n",
    "  validation_datagen = ImageDataGenerator(rescale = 1./255.)\n",
    "\n",
    "  # Pass in the appropriate arguments to the flow method\n",
    "  validation_generator = validation_datagen.flow(x=validation_images,\n",
    "                                                 y=validation_labels,\n",
    "                                                 batch_size=16)\n",
    "\n",
    "  ### END CODE HERE\n",
    "\n",
    "  return train_generator, validation_generator"
   ]
  },
  {
   "cell_type": "code",
   "execution_count": 79,
   "id": "80681df7",
   "metadata": {},
   "outputs": [
    {
     "name": "stdout",
     "output_type": "stream",
     "text": [
      "Images of training generator have shape: (4682, 224, 224, 3)\n",
      "Labels of training generator have shape: (4682,)\n",
      "Images of validation generator have shape: (355, 224, 224, 3)\n",
      "Labels of validation generator have shape: (355,)\n"
     ]
    }
   ],
   "source": [
    "# grader-required-cell\n",
    "\n",
    "# Test your generators\n",
    "train_generator, validation_generator = train_val_generators(training_images, training_labels, validation_images, validation_labels)\n",
    "\n",
    "print(f\"Images of training generator have shape: {train_generator.x.shape}\")\n",
    "print(f\"Labels of training generator have shape: {train_generator.y.shape}\")\n",
    "print(f\"Images of validation generator have shape: {validation_generator.x.shape}\")\n",
    "print(f\"Labels of validation generator have shape: {validation_generator.y.shape}\")"
   ]
  },
  {
   "cell_type": "code",
   "execution_count": 80,
   "id": "418d0fa1",
   "metadata": {},
   "outputs": [],
   "source": [
    "def create_model():\n",
    "\n",
    "  ### START CODE HERE\n",
    "\n",
    "  # Define the model\n",
    "  # Use no more than 2 Conv2D and 2 MaxPooling2D\n",
    "  model = tf.keras.models.Sequential([\n",
    "      tf.keras.layers.Conv2D(16, (3,3), activation='relu', input_shape=(224, 224, 3)),\n",
    "      tf.keras.layers.MaxPooling2D(2,2),\n",
    "      tf.keras.layers.Conv2D(32, (3, 3), activation='relu'),\n",
    "      tf.keras.layers.MaxPooling2D(2, 2),   \n",
    "      tf.keras.layers.Conv2D(64, (3, 3), activation='relu'),\n",
    "      tf.keras.layers.MaxPooling2D(2, 2),\n",
    "      tf.keras.layers.Conv2D(128, (3, 3), activation='relu'),\n",
    "      tf.keras.layers.MaxPooling2D(2, 2),\n",
    "      # Flatten the results to feed into a DNN\n",
    "      tf.keras.layers.Flatten(),\n",
    "      # 512 neuron hidden layer\n",
    "      tf.keras.layers.Dense(512, activation='relu'),\n",
    "      # 5 classes\n",
    "      tf.keras.layers.Dense(4, activation='softmax')\n",
    "  ])\n",
    "\n",
    "\n",
    "  model.compile(optimizer = tf.optimizers.Adam(),\n",
    "                loss = 'sparse_categorical_crossentropy',\n",
    "                metrics=['accuracy'])\n",
    "\n",
    "  ### END CODE HERE\n",
    "\n",
    "  return model"
   ]
  },
  {
   "cell_type": "code",
   "execution_count": 81,
   "id": "e6a89ed4",
   "metadata": {},
   "outputs": [
    {
     "name": "stdout",
     "output_type": "stream",
     "text": [
      "Epoch 1/30\n",
      "293/293 [==============================] - 86s 286ms/step - loss: 0.3125 - accuracy: 0.8746 - val_loss: 0.1542 - val_accuracy: 0.9690\n",
      "Epoch 2/30\n",
      "293/293 [==============================] - 83s 284ms/step - loss: 0.0788 - accuracy: 0.9752 - val_loss: 0.0445 - val_accuracy: 0.9775\n",
      "Epoch 3/30\n",
      "293/293 [==============================] - 87s 296ms/step - loss: 0.0812 - accuracy: 0.9731 - val_loss: 0.0638 - val_accuracy: 0.9746\n",
      "Epoch 4/30\n",
      "293/293 [==============================] - 86s 295ms/step - loss: 0.0453 - accuracy: 0.9842 - val_loss: 0.1253 - val_accuracy: 0.9493\n",
      "Epoch 5/30\n",
      "293/293 [==============================] - 85s 291ms/step - loss: 0.0245 - accuracy: 0.9930 - val_loss: 0.0027 - val_accuracy: 1.0000\n",
      "Epoch 6/30\n",
      "293/293 [==============================] - 84s 286ms/step - loss: 0.0220 - accuracy: 0.9934 - val_loss: 0.0565 - val_accuracy: 0.9831\n",
      "Epoch 7/30\n",
      "293/293 [==============================] - 80s 273ms/step - loss: 0.0172 - accuracy: 0.9953 - val_loss: 0.0092 - val_accuracy: 0.9944\n",
      "Epoch 8/30\n",
      "293/293 [==============================] - 82s 281ms/step - loss: 0.0653 - accuracy: 0.9827 - val_loss: 0.2005 - val_accuracy: 0.9296\n",
      "Epoch 9/30\n",
      "293/293 [==============================] - 82s 280ms/step - loss: 0.0331 - accuracy: 0.9895 - val_loss: 0.0056 - val_accuracy: 1.0000\n",
      "Epoch 10/30\n",
      "293/293 [==============================] - 82s 280ms/step - loss: 0.0182 - accuracy: 0.9957 - val_loss: 0.0060 - val_accuracy: 0.9972\n",
      "Epoch 11/30\n",
      "293/293 [==============================] - 82s 279ms/step - loss: 0.0129 - accuracy: 0.9957 - val_loss: 0.0123 - val_accuracy: 0.9944\n",
      "Epoch 12/30\n",
      "293/293 [==============================] - 82s 279ms/step - loss: 0.0192 - accuracy: 0.9938 - val_loss: 0.0174 - val_accuracy: 0.9887\n",
      "Epoch 13/30\n",
      "293/293 [==============================] - 82s 281ms/step - loss: 0.0143 - accuracy: 0.9949 - val_loss: 0.0094 - val_accuracy: 0.9972\n",
      "Epoch 14/30\n",
      "293/293 [==============================] - 82s 281ms/step - loss: 0.0082 - accuracy: 0.9972 - val_loss: 0.0086 - val_accuracy: 1.0000\n",
      "Epoch 15/30\n",
      "293/293 [==============================] - 82s 280ms/step - loss: 0.0067 - accuracy: 0.9977 - val_loss: 0.0011 - val_accuracy: 1.0000\n",
      "Epoch 16/30\n",
      "293/293 [==============================] - 82s 279ms/step - loss: 0.0076 - accuracy: 0.9972 - val_loss: 0.0015 - val_accuracy: 1.0000\n",
      "Epoch 17/30\n",
      "293/293 [==============================] - 90s 307ms/step - loss: 0.0088 - accuracy: 0.9972 - val_loss: 0.0654 - val_accuracy: 0.9775\n",
      "Epoch 18/30\n",
      "293/293 [==============================] - 87s 297ms/step - loss: 0.0739 - accuracy: 0.9776 - val_loss: 0.0334 - val_accuracy: 0.9859\n",
      "Epoch 19/30\n",
      "293/293 [==============================] - 89s 302ms/step - loss: 0.0168 - accuracy: 0.9957 - val_loss: 0.0081 - val_accuracy: 0.9972\n",
      "Epoch 20/30\n",
      "293/293 [==============================] - 91s 309ms/step - loss: 0.0081 - accuracy: 0.9977 - val_loss: 0.0091 - val_accuracy: 0.9944\n",
      "Epoch 21/30\n",
      "293/293 [==============================] - 91s 312ms/step - loss: 0.0101 - accuracy: 0.9972 - val_loss: 0.0029 - val_accuracy: 1.0000\n",
      "Epoch 22/30\n",
      "293/293 [==============================] - 91s 311ms/step - loss: 0.0079 - accuracy: 0.9970 - val_loss: 0.0284 - val_accuracy: 0.9887\n",
      "Epoch 23/30\n",
      "293/293 [==============================] - 87s 298ms/step - loss: 0.0145 - accuracy: 0.9959 - val_loss: 0.0011 - val_accuracy: 1.0000\n",
      "Epoch 24/30\n",
      "293/293 [==============================] - 88s 301ms/step - loss: 0.0063 - accuracy: 0.9977 - val_loss: 0.0029 - val_accuracy: 1.0000\n",
      "Epoch 25/30\n",
      "293/293 [==============================] - 87s 298ms/step - loss: 0.0071 - accuracy: 0.9981 - val_loss: 0.0013 - val_accuracy: 1.0000\n",
      "Epoch 26/30\n",
      "293/293 [==============================] - 86s 294ms/step - loss: 0.0098 - accuracy: 0.9964 - val_loss: 0.0315 - val_accuracy: 0.9831\n",
      "Epoch 27/30\n",
      "293/293 [==============================] - 86s 292ms/step - loss: 0.0428 - accuracy: 0.9908 - val_loss: 0.0348 - val_accuracy: 0.9859\n",
      "Epoch 28/30\n",
      "293/293 [==============================] - 86s 293ms/step - loss: 0.0106 - accuracy: 0.9962 - val_loss: 0.0011 - val_accuracy: 1.0000\n",
      "Epoch 29/30\n",
      "293/293 [==============================] - 88s 301ms/step - loss: 0.0045 - accuracy: 0.9977 - val_loss: 0.0036 - val_accuracy: 1.0000\n",
      "Epoch 30/30\n",
      "293/293 [==============================] - 90s 309ms/step - loss: 0.0080 - accuracy: 0.9979 - val_loss: 0.0011 - val_accuracy: 1.0000\n"
     ]
    }
   ],
   "source": [
    "# Save your model\n",
    "model = create_model()\n",
    "\n",
    "# Train your model\n",
    "history = model.fit(train_generator,\n",
    "                    epochs=30,\n",
    "                    validation_data=validation_generator)\n"
   ]
  },
  {
   "cell_type": "code",
   "execution_count": 82,
   "id": "3f2628d1",
   "metadata": {},
   "outputs": [
    {
     "data": {
      "image/png": "[encoded data removed]",
      "text/plain": [
       "<Figure size 640x480 with 1 Axes>"
      ]
     },
     "metadata": {},
     "output_type": "display_data"
    },
    {
     "name": "stdout",
     "output_type": "stream",
     "text": [
      "\n"
     ]
    },
    {
     "data": {
      "image/png": "[encoded data removed]",
      "text/plain": [
       "<Figure size 640x480 with 1 Axes>"
      ]
     },
     "metadata": {},
     "output_type": "display_data"
    }
   ],
   "source": [
    "#-----------------------------------------------------------\n",
    "# Retrieve a list of list results on training and test data\n",
    "# sets for each training epoch\n",
    "#-----------------------------------------------------------\n",
    "acc=history.history['accuracy']\n",
    "val_acc=history.history['val_accuracy']\n",
    "loss=history.history['loss']\n",
    "val_loss=history.history['val_loss']\n",
    "\n",
    "epochs=range(len(acc)) # Get number of epochs\n",
    "\n",
    "#------------------------------------------------\n",
    "# Plot training and validation accuracy per epoch\n",
    "#------------------------------------------------\n",
    "plt.plot(epochs, acc, 'r', \"Training Accuracy\")\n",
    "plt.plot(epochs, val_acc, 'b', \"Validation Accuracy\")\n",
    "plt.title('Training and validation accuracy')\n",
    "plt.show()\n",
    "print(\"\")\n",
    "\n",
    "#------------------------------------------------\n",
    "# Plot training and validation loss per epoch\n",
    "#------------------------------------------------\n",
    "plt.plot(epochs, loss, 'r', \"Training Loss\")\n",
    "plt.plot(epochs, val_loss, 'b', \"Validation Loss\")\n",
    "plt.show()"
   ]
  },
  {
   "cell_type": "code",
   "execution_count": 2,
   "id": "f957d581",
   "metadata": {},
   "outputs": [],
   "source": [
    "# # Load the model\n",
    "from keras.models import load_model  # TensorFlow is required for Keras to work\n",
    "import cv2  # Install opencv-python\n",
    "import numpy as np\n",
    "model = load_model(\"Capstone Project_WOAI_model.h5\", compile=False)"
   ]
  },
  {
   "cell_type": "code",
   "execution_count": 3,
   "id": "e8712153",
   "metadata": {},
   "outputs": [
    {
     "name": "stdout",
     "output_type": "stream",
     "text": [
      "1/1 [==============================] - 1s 580ms/step\n",
      "Down-Correct\n",
      "[[1.0000000e+00 5.4922924e-16 1.7108101e-10 3.0147921e-15]]\n"
     ]
    }
   ],
   "source": [
    "\n",
    "## NOTE: If you are using Safari and this cell throws an error,\n",
    "## please skip this block and run the next one instead.\n",
    "\n",
    "import numpy as np\n",
    "from tensorflow.keras.utils import load_img, img_to_array\n",
    "\n",
    " \n",
    "  # predicting images\n",
    "path=r'test\\Down-Correct\\23262_png.rf.229b39ed42db55a32c912dd529b9fd1d.jpg'\n",
    "img=load_img(path, target_size=(224, 224))\n",
    "  \n",
    "x=img_to_array(img)\n",
    "x /= 255\n",
    "x=np.expand_dims(x, axis=0)\n",
    "images = np.vstack([x])\n",
    "  \n",
    "classes = model.predict(images, batch_size=16)\n",
    "print(\"Down-Correct\")  \n",
    "print(classes)\n"
   ]
  },
  {
   "cell_type": "code",
   "execution_count": 4,
   "id": "0c5f848e",
   "metadata": {},
   "outputs": [
    {
     "name": "stdout",
     "output_type": "stream",
     "text": [
      "1/1 [==============================] - 0s 50ms/step\n",
      "Down-Wrong\n",
      "[[1.0774982e-05 9.8621446e-01 1.3147669e-02 6.2714593e-04]]\n"
     ]
    }
   ],
   "source": [
    "\n",
    "## NOTE: If you are using Safari and this cell throws an error,\n",
    "## please skip this block and run the next one instead.\n",
    "\n",
    "import numpy as np\n",
    "from tensorflow.keras.utils import load_img, img_to_array\n",
    "\n",
    " \n",
    "  # predicting images\n",
    "path=r'test\\Down-Wrong\\6_380 - Copy.jpg'\n",
    "img=load_img(path, target_size=(224, 224))\n",
    "  \n",
    "x=img_to_array(img)\n",
    "x /= 255\n",
    "x=np.expand_dims(x, axis=0)\n",
    "images = np.vstack([x])\n",
    "  \n",
    "classes = model.predict(images, batch_size=16)\n",
    "print(\"Down-Wrong\")  \n",
    "print(classes)\n"
   ]
  },
  {
   "cell_type": "code",
   "execution_count": 5,
   "id": "e9f3602e",
   "metadata": {},
   "outputs": [
    {
     "name": "stdout",
     "output_type": "stream",
     "text": [
      "1/1 [==============================] - 0s 48ms/step\n",
      "Up-Correct\n",
      "[8.6999796e-11 1.0009071e-10 1.0000000e+00 7.0148256e-09]\n"
     ]
    }
   ],
   "source": [
    "\n",
    "## NOTE: If you are using Safari and this cell throws an error,\n",
    "## please skip this block and run the next one instead.\n",
    "\n",
    "import numpy as np\n",
    "from tensorflow.keras.utils import load_img, img_to_array\n",
    "\n",
    " \n",
    "  # predicting images\n",
    "path=r'test\\Up-Correct\\6068_png.rf.31490652a258e3f4f98e89015b326a31.jpg'\n",
    "img=load_img(path, target_size=(224, 224))\n",
    "  \n",
    "x=img_to_array(img)\n",
    "x /= 255\n",
    "x=np.expand_dims(x, axis=0)\n",
    "images = np.vstack([x])\n",
    "  \n",
    "classes = model.predict(images, batch_size=16)\n",
    "print(\"Up-Correct\")   \n",
    "print(classes[0])\n"
   ]
  },
  {
   "cell_type": "code",
   "execution_count": 8,
   "id": "a64b4f63",
   "metadata": {},
   "outputs": [
    {
     "name": "stdout",
     "output_type": "stream",
     "text": [
      "1/1 [==============================] - 0s 46ms/step\n",
      "Up-Wrong\n",
      "[1.8447554e-15 5.7340008e-09 9.4839323e-01 5.1606856e-02]\n"
     ]
    }
   ],
   "source": [
    "\n",
    "## NOTE: If you are using Safari and this cell throws an error,\n",
    "## please skip this block and run the next one instead.\n",
    "\n",
    "import numpy as np\n",
    "from tensorflow.keras.utils import load_img, img_to_array\n",
    "\n",
    " \n",
    "  # predicting images\n",
    "path=r'train\\Up-Wrong\\image4_324.jpg'\n",
    "img=load_img(path, target_size=(224, 224))\n",
    "  \n",
    "x=img_to_array(img)\n",
    "x /= 255\n",
    "x=np.expand_dims(x, axis=0)\n",
    "images = np.vstack([x])\n",
    "  \n",
    "classes = model.predict(images, batch_size=16)\n",
    "print(\"Up-Wrong\")  \n",
    "print(classes[0])\n"
   ]
  },
  {
   "cell_type": "code",
   "execution_count": 103,
   "id": "795b9aab",
   "metadata": {},
   "outputs": [],
   "source": [
    "# import tensorflow as tf\n",
    "# from tensorflow.keras.applications import MobileNetV2\n",
    "# model.save('Capstone Project_WOAI_model.h5')"
   ]
  },
  {
   "cell_type": "raw",
   "id": "41b8ec1f",
   "metadata": {},
   "source": [
    "Predict Baru"
   ]
  },
  {
   "cell_type": "code",
   "execution_count": 117,
   "id": "56df3217",
   "metadata": {},
   "outputs": [],
   "source": [
    "# # Load the model\n",
    "# model = load_model(\"keras_model.h5\", compile=False)\n",
    "\n",
    "# # Load the labels\n",
    "# class_names = open(\"labels.txt\", \"r\").readlines()"
   ]
  },
  {
   "cell_type": "code",
   "execution_count": 108,
   "id": "006aeda1",
   "metadata": {},
   "outputs": [
    {
     "name": "stdout",
     "output_type": "stream",
     "text": [
      "1/1 [==============================] - 1s 1s/step\n",
      "Class: Down-Correct\n",
      "Confidence Score: 100 %\n"
     ]
    }
   ],
   "source": [
    "from keras.models import load_model  # TensorFlow is required for Keras to work\n",
    "import cv2  # Install opencv-python\n",
    "import numpy as np\n",
    "\n",
    "# Disable scientific notation for clarity\n",
    "np.set_printoptions(suppress=True)\n",
    "\n",
    "path=r'test\\Down-Correct\\23582_png.rf.1a158f848bed2560853e56c1fee9d0e5.jpg'\n",
    "image=load_img(path, target_size=(224, 224))\n",
    "\n",
    "image = np.asarray(image, dtype=np.float32).reshape(1, 224, 224, 3)\n",
    "\n",
    "# Normalize the image array\n",
    "image = (image / 127.5) - 1\n",
    "\n",
    "# Predicts the model\n",
    "prediction = model.predict(image)\n",
    "index = np.argmax(prediction)\n",
    "class_name = class_names[index]\n",
    "confidence_score = prediction[0][index]\n",
    "\n",
    "# Print prediction and confidence score\n",
    "print(\"Class:\", class_name[2:], end=\"\")\n",
    "print(\"Confidence Score:\", str(np.round(confidence_score * 100))[:-2], \"%\")\n"
   ]
  },
  {
   "cell_type": "code",
   "execution_count": 73,
   "id": "51fdc369",
   "metadata": {},
   "outputs": [
    {
     "name": "stdout",
     "output_type": "stream",
     "text": [
      "1/1 [==============================] - 1s 1s/step\n",
      "Class: Down-Wrong\n",
      "Confidence Score: 100 %\n"
     ]
    }
   ],
   "source": [
    "from keras.models import load_model  # TensorFlow is required for Keras to work\n",
    "import cv2  # Install opencv-python\n",
    "import numpy as np\n",
    "\n",
    "# Disable scientific notation for clarity\n",
    "np.set_printoptions(suppress=True)\n",
    "\n",
    "path=r'test\\Down-Wrong\\image2_432.jpg'\n",
    "image=load_img(path, target_size=(224, 224))\n",
    "\n",
    "image = np.asarray(image, dtype=np.float32).reshape(1, 224, 224, 3)\n",
    "\n",
    "# Normalize the image array\n",
    "image = (image / 127.5) - 1\n",
    "\n",
    "# Predicts the model\n",
    "prediction = model.predict(image)\n",
    "index = np.argmax(prediction)\n",
    "class_name = class_names[index]\n",
    "confidence_score = prediction[0][index]\n",
    "\n",
    "# Print prediction and confidence score\n",
    "print(\"Class:\", class_name[2:], end=\"\")\n",
    "print(\"Confidence Score:\", str(np.round(confidence_score * 100))[:-2], \"%\")\n"
   ]
  },
  {
   "cell_type": "code",
   "execution_count": 70,
   "id": "8ad66583",
   "metadata": {},
   "outputs": [
    {
     "name": "stdout",
     "output_type": "stream",
     "text": [
      "1/1 [==============================] - 1s 1s/step\n",
      "Class: Up-Correct\n",
      "Confidence Score: 100 %\n"
     ]
    }
   ],
   "source": [
    "from keras.models import load_model  # TensorFlow is required for Keras to work\n",
    "import cv2  # Install opencv-python\n",
    "import numpy as np\n",
    "\n",
    "# Disable scientific notation for clarity\n",
    "np.set_printoptions(suppress=True)\n",
    "\n",
    "path=r'test\\Up-Correct\\6068_png.rf.31490652a258e3f4f98e89015b326a31.jpg'\n",
    "image=load_img(path, target_size=(224, 224))\n",
    "\n",
    "image = np.asarray(image, dtype=np.float32).reshape(1, 224, 224, 3)\n",
    "\n",
    "# Normalize the image array\n",
    "image = (image / 127.5) - 1\n",
    "\n",
    "# Predicts the model\n",
    "prediction = model.predict(image)\n",
    "index = np.argmax(prediction)\n",
    "class_name = class_names[index]\n",
    "confidence_score = prediction[0][index]\n",
    "\n",
    "# Print prediction and confidence score\n",
    "print(\"Class:\", class_name[2:], end=\"\")\n",
    "print(\"Confidence Score:\", str(np.round(confidence_score * 100))[:-2], \"%\")\n"
   ]
  },
  {
   "cell_type": "code",
   "execution_count": 71,
   "id": "4185c89d",
   "metadata": {},
   "outputs": [
    {
     "name": "stdout",
     "output_type": "stream",
     "text": [
      "1/1 [==============================] - 1s 1s/step\n",
      "Class: Up-Wrong\n",
      "Confidence Score: 100 %\n"
     ]
    }
   ],
   "source": [
    "from keras.models import load_model  # TensorFlow is required for Keras to work\n",
    "import cv2  # Install opencv-python\n",
    "import numpy as np\n",
    "\n",
    "# Disable scientific notation for clarity\n",
    "np.set_printoptions(suppress=True)\n",
    "\n",
    "path=r'test\\Up-Wrong\\image8_882.jpg'\n",
    "image=load_img(path, target_size=(224, 224))\n",
    "\n",
    "image = np.asarray(image, dtype=np.float32).reshape(1, 224, 224, 3)\n",
    "\n",
    "# Normalize the image array\n",
    "image = (image / 127.5) - 1\n",
    "\n",
    "# Predicts the model\n",
    "prediction = model.predict(image)\n",
    "index = np.argmax(prediction)\n",
    "class_name = class_names[index]\n",
    "confidence_score = prediction[0][index]\n",
    "\n",
    "# Print prediction and confidence score\n",
    "print(\"Class:\", class_name[2:], end=\"\")\n",
    "print(\"Confidence Score:\", str(np.round(confidence_score * 100))[:-2], \"%\")\n"
   ]
  },
  {
   "cell_type": "code",
   "execution_count": null,
   "id": "7e5f073f",
   "metadata": {},
   "outputs": [],
   "source": []
  }
 ],
 "metadata": {
  "kernelspec": {
   "display_name": "Python 3 (ipykernel)",
   "language": "python",
   "name": "python3"
  },
  "language_info": {
   "codemirror_mode": {
    "name": "ipython",
    "version": 3
   },
   "file_extension": ".py",
   "mimetype": "text/x-python",
   "name": "python",
   "nbconvert_exporter": "python",
   "pygments_lexer": "ipython3",
   "version": "3.11.4"
  }
 },
 "nbformat": 4,
 "nbformat_minor": 5
}
